{
  "nbformat": 4,
  "nbformat_minor": 0,
  "metadata": {
    "colab": {
      "name": "b Implementation_of_Customer_churn_prediction_using_dataset_for_Bankipynb",
      "provenance": [],
      "authorship_tag": "ABX9TyMlsxyrJn/LjeUHNkuOJzye",
      "include_colab_link": true
    },
    "kernelspec": {
      "name": "python3",
      "display_name": "Python 3"
    },
    "language_info": {
      "name": "python"
    }
  },
  "cells": [
    {
      "cell_type": "markdown",
      "metadata": {
        "id": "view-in-github",
        "colab_type": "text"
      },
      "source": [
        "<a href=\"https://colab.research.google.com/github/JSDesai/NNDL_lab_2022/blob/main/bImplementation_of_Customer_churn_prediction_using_dataset_for_Bankipynb.ipynb\" target=\"_parent\"><img src=\"https://colab.research.google.com/assets/colab-badge.svg\" alt=\"Open In Colab\"/></a>"
      ]
    },
    {
      "cell_type": "code",
      "source": [
        "import pandas as pd\n",
        "from sklearn.preprocessing import MinMaxScaler\n",
        "from sklearn.model_selection import train_test_split\n",
        "import tensorflow as tf\n",
        "from tensorflow import keras\n",
        "import pandas as pd\n",
        "import numpy as np\n",
        "import matplotlib.pyplot as plt\n",
        "df=pd.read_csv('/content/ChurnBank.csv')\n",
        "df.head()"
      ],
      "metadata": {
        "colab": {
          "base_uri": "https://localhost:8080/",
          "height": 270
        },
        "id": "Gg4qyeycRWuG",
        "outputId": "eb1b02b4-c05f-4a3e-f4e2-3a6fad10179b"
      },
      "execution_count": 47,
      "outputs": [
        {
          "output_type": "execute_result",
          "data": {
            "text/plain": [
              "   RowNumber  CustomerId   Surname  CreditScore Geography  Gender  Age  \\\n",
              "0          1    15634602  Hargrave          619    France  Female   42   \n",
              "1          2    15647311      Hill          608     Spain  Female   41   \n",
              "2          3    15619304      Onio          502    France  Female   42   \n",
              "3          4    15701354      Boni          699    France  Female   39   \n",
              "4          5    15737888  Mitchell          850     Spain  Female   43   \n",
              "\n",
              "   Tenure    Balance  NumOfProducts  HasCrCard  IsActiveMember  \\\n",
              "0       2       0.00              1          1               1   \n",
              "1       1   83807.86              1          0               1   \n",
              "2       8  159660.80              3          1               0   \n",
              "3       1       0.00              2          0               0   \n",
              "4       2  125510.82              1          1               1   \n",
              "\n",
              "   EstimatedSalary  Exited  \n",
              "0        101348.88       1  \n",
              "1        112542.58       0  \n",
              "2        113931.57       1  \n",
              "3         93826.63       0  \n",
              "4         79084.10       0  "
            ],
            "text/html": [
              "\n",
              "  <div id=\"df-8bb2ff8b-f283-4374-b2cf-ced52d61de75\">\n",
              "    <div class=\"colab-df-container\">\n",
              "      <div>\n",
              "<style scoped>\n",
              "    .dataframe tbody tr th:only-of-type {\n",
              "        vertical-align: middle;\n",
              "    }\n",
              "\n",
              "    .dataframe tbody tr th {\n",
              "        vertical-align: top;\n",
              "    }\n",
              "\n",
              "    .dataframe thead th {\n",
              "        text-align: right;\n",
              "    }\n",
              "</style>\n",
              "<table border=\"1\" class=\"dataframe\">\n",
              "  <thead>\n",
              "    <tr style=\"text-align: right;\">\n",
              "      <th></th>\n",
              "      <th>RowNumber</th>\n",
              "      <th>CustomerId</th>\n",
              "      <th>Surname</th>\n",
              "      <th>CreditScore</th>\n",
              "      <th>Geography</th>\n",
              "      <th>Gender</th>\n",
              "      <th>Age</th>\n",
              "      <th>Tenure</th>\n",
              "      <th>Balance</th>\n",
              "      <th>NumOfProducts</th>\n",
              "      <th>HasCrCard</th>\n",
              "      <th>IsActiveMember</th>\n",
              "      <th>EstimatedSalary</th>\n",
              "      <th>Exited</th>\n",
              "    </tr>\n",
              "  </thead>\n",
              "  <tbody>\n",
              "    <tr>\n",
              "      <th>0</th>\n",
              "      <td>1</td>\n",
              "      <td>15634602</td>\n",
              "      <td>Hargrave</td>\n",
              "      <td>619</td>\n",
              "      <td>France</td>\n",
              "      <td>Female</td>\n",
              "      <td>42</td>\n",
              "      <td>2</td>\n",
              "      <td>0.00</td>\n",
              "      <td>1</td>\n",
              "      <td>1</td>\n",
              "      <td>1</td>\n",
              "      <td>101348.88</td>\n",
              "      <td>1</td>\n",
              "    </tr>\n",
              "    <tr>\n",
              "      <th>1</th>\n",
              "      <td>2</td>\n",
              "      <td>15647311</td>\n",
              "      <td>Hill</td>\n",
              "      <td>608</td>\n",
              "      <td>Spain</td>\n",
              "      <td>Female</td>\n",
              "      <td>41</td>\n",
              "      <td>1</td>\n",
              "      <td>83807.86</td>\n",
              "      <td>1</td>\n",
              "      <td>0</td>\n",
              "      <td>1</td>\n",
              "      <td>112542.58</td>\n",
              "      <td>0</td>\n",
              "    </tr>\n",
              "    <tr>\n",
              "      <th>2</th>\n",
              "      <td>3</td>\n",
              "      <td>15619304</td>\n",
              "      <td>Onio</td>\n",
              "      <td>502</td>\n",
              "      <td>France</td>\n",
              "      <td>Female</td>\n",
              "      <td>42</td>\n",
              "      <td>8</td>\n",
              "      <td>159660.80</td>\n",
              "      <td>3</td>\n",
              "      <td>1</td>\n",
              "      <td>0</td>\n",
              "      <td>113931.57</td>\n",
              "      <td>1</td>\n",
              "    </tr>\n",
              "    <tr>\n",
              "      <th>3</th>\n",
              "      <td>4</td>\n",
              "      <td>15701354</td>\n",
              "      <td>Boni</td>\n",
              "      <td>699</td>\n",
              "      <td>France</td>\n",
              "      <td>Female</td>\n",
              "      <td>39</td>\n",
              "      <td>1</td>\n",
              "      <td>0.00</td>\n",
              "      <td>2</td>\n",
              "      <td>0</td>\n",
              "      <td>0</td>\n",
              "      <td>93826.63</td>\n",
              "      <td>0</td>\n",
              "    </tr>\n",
              "    <tr>\n",
              "      <th>4</th>\n",
              "      <td>5</td>\n",
              "      <td>15737888</td>\n",
              "      <td>Mitchell</td>\n",
              "      <td>850</td>\n",
              "      <td>Spain</td>\n",
              "      <td>Female</td>\n",
              "      <td>43</td>\n",
              "      <td>2</td>\n",
              "      <td>125510.82</td>\n",
              "      <td>1</td>\n",
              "      <td>1</td>\n",
              "      <td>1</td>\n",
              "      <td>79084.10</td>\n",
              "      <td>0</td>\n",
              "    </tr>\n",
              "  </tbody>\n",
              "</table>\n",
              "</div>\n",
              "      <button class=\"colab-df-convert\" onclick=\"convertToInteractive('df-8bb2ff8b-f283-4374-b2cf-ced52d61de75')\"\n",
              "              title=\"Convert this dataframe to an interactive table.\"\n",
              "              style=\"display:none;\">\n",
              "        \n",
              "  <svg xmlns=\"http://www.w3.org/2000/svg\" height=\"24px\"viewBox=\"0 0 24 24\"\n",
              "       width=\"24px\">\n",
              "    <path d=\"M0 0h24v24H0V0z\" fill=\"none\"/>\n",
              "    <path d=\"M18.56 5.44l.94 2.06.94-2.06 2.06-.94-2.06-.94-.94-2.06-.94 2.06-2.06.94zm-11 1L8.5 8.5l.94-2.06 2.06-.94-2.06-.94L8.5 2.5l-.94 2.06-2.06.94zm10 10l.94 2.06.94-2.06 2.06-.94-2.06-.94-.94-2.06-.94 2.06-2.06.94z\"/><path d=\"M17.41 7.96l-1.37-1.37c-.4-.4-.92-.59-1.43-.59-.52 0-1.04.2-1.43.59L10.3 9.45l-7.72 7.72c-.78.78-.78 2.05 0 2.83L4 21.41c.39.39.9.59 1.41.59.51 0 1.02-.2 1.41-.59l7.78-7.78 2.81-2.81c.8-.78.8-2.07 0-2.86zM5.41 20L4 18.59l7.72-7.72 1.47 1.35L5.41 20z\"/>\n",
              "  </svg>\n",
              "      </button>\n",
              "      \n",
              "  <style>\n",
              "    .colab-df-container {\n",
              "      display:flex;\n",
              "      flex-wrap:wrap;\n",
              "      gap: 12px;\n",
              "    }\n",
              "\n",
              "    .colab-df-convert {\n",
              "      background-color: #E8F0FE;\n",
              "      border: none;\n",
              "      border-radius: 50%;\n",
              "      cursor: pointer;\n",
              "      display: none;\n",
              "      fill: #1967D2;\n",
              "      height: 32px;\n",
              "      padding: 0 0 0 0;\n",
              "      width: 32px;\n",
              "    }\n",
              "\n",
              "    .colab-df-convert:hover {\n",
              "      background-color: #E2EBFA;\n",
              "      box-shadow: 0px 1px 2px rgba(60, 64, 67, 0.3), 0px 1px 3px 1px rgba(60, 64, 67, 0.15);\n",
              "      fill: #174EA6;\n",
              "    }\n",
              "\n",
              "    [theme=dark] .colab-df-convert {\n",
              "      background-color: #3B4455;\n",
              "      fill: #D2E3FC;\n",
              "    }\n",
              "\n",
              "    [theme=dark] .colab-df-convert:hover {\n",
              "      background-color: #434B5C;\n",
              "      box-shadow: 0px 1px 3px 1px rgba(0, 0, 0, 0.15);\n",
              "      filter: drop-shadow(0px 1px 2px rgba(0, 0, 0, 0.3));\n",
              "      fill: #FFFFFF;\n",
              "    }\n",
              "  </style>\n",
              "\n",
              "      <script>\n",
              "        const buttonEl =\n",
              "          document.querySelector('#df-8bb2ff8b-f283-4374-b2cf-ced52d61de75 button.colab-df-convert');\n",
              "        buttonEl.style.display =\n",
              "          google.colab.kernel.accessAllowed ? 'block' : 'none';\n",
              "\n",
              "        async function convertToInteractive(key) {\n",
              "          const element = document.querySelector('#df-8bb2ff8b-f283-4374-b2cf-ced52d61de75');\n",
              "          const dataTable =\n",
              "            await google.colab.kernel.invokeFunction('convertToInteractive',\n",
              "                                                     [key], {});\n",
              "          if (!dataTable) return;\n",
              "\n",
              "          const docLinkHtml = 'Like what you see? Visit the ' +\n",
              "            '<a target=\"_blank\" href=https://colab.research.google.com/notebooks/data_table.ipynb>data table notebook</a>'\n",
              "            + ' to learn more about interactive tables.';\n",
              "          element.innerHTML = '';\n",
              "          dataTable['output_type'] = 'display_data';\n",
              "          await google.colab.output.renderOutput(dataTable, element);\n",
              "          const docLink = document.createElement('div');\n",
              "          docLink.innerHTML = docLinkHtml;\n",
              "          element.appendChild(docLink);\n",
              "        }\n",
              "      </script>\n",
              "    </div>\n",
              "  </div>\n",
              "  "
            ]
          },
          "metadata": {},
          "execution_count": 47
        }
      ]
    },
    {
      "cell_type": "code",
      "source": [
        "df.shape\n"
      ],
      "metadata": {
        "colab": {
          "base_uri": "https://localhost:8080/"
        },
        "id": "T_QD3kzERcaE",
        "outputId": "6b3b0b31-c577-4001-f6f6-60612eeed691"
      },
      "execution_count": 48,
      "outputs": [
        {
          "output_type": "execute_result",
          "data": {
            "text/plain": [
              "(10000, 14)"
            ]
          },
          "metadata": {},
          "execution_count": 48
        }
      ]
    },
    {
      "cell_type": "code",
      "source": [
        "df.dtypes"
      ],
      "metadata": {
        "colab": {
          "base_uri": "https://localhost:8080/"
        },
        "id": "xyxFIFbYRffE",
        "outputId": "1b45ef1a-28c2-4127-dedf-18c06ca505ca"
      },
      "execution_count": 49,
      "outputs": [
        {
          "output_type": "execute_result",
          "data": {
            "text/plain": [
              "RowNumber            int64\n",
              "CustomerId           int64\n",
              "Surname             object\n",
              "CreditScore          int64\n",
              "Geography           object\n",
              "Gender              object\n",
              "Age                  int64\n",
              "Tenure               int64\n",
              "Balance            float64\n",
              "NumOfProducts        int64\n",
              "HasCrCard            int64\n",
              "IsActiveMember       int64\n",
              "EstimatedSalary    float64\n",
              "Exited               int64\n",
              "dtype: object"
            ]
          },
          "metadata": {},
          "execution_count": 49
        }
      ]
    },
    {
      "cell_type": "code",
      "source": [
        "df = df.drop(['RowNumber', 'CustomerId', 'Surname'], axis=1)"
      ],
      "metadata": {
        "id": "76rYse-sRiJP"
      },
      "execution_count": 50,
      "outputs": []
    },
    {
      "cell_type": "markdown",
      "source": [
        "Visualization\n"
      ],
      "metadata": {
        "id": "mtgs0pIxRkXl"
      }
    },
    {
      "cell_type": "code",
      "source": [
        "existed_yes = df[df['Exited']== 1].Tenure \n",
        "existed_no = df[df['Exited']== 0].Tenure \n",
        "plt.xlabel('Tenure')\n",
        "plt.ylabel('no of customer')\n",
        "plt.title('Churn prediction')\n",
        "plt.hist([existed_no,existed_yes], color = ['red', 'blue'], label =(['Existed = no','Existed = yes']))\n",
        "plt.legend()"
      ],
      "metadata": {
        "colab": {
          "base_uri": "https://localhost:8080/",
          "height": 402
        },
        "id": "TJ1GsATwRnRQ",
        "outputId": "d44000e9-2314-49b7-b7b2-9116d434454e"
      },
      "execution_count": 51,
      "outputs": [
        {
          "output_type": "stream",
          "name": "stderr",
          "text": [
            "/usr/local/lib/python3.7/dist-packages/numpy/core/fromnumeric.py:3208: VisibleDeprecationWarning: Creating an ndarray from ragged nested sequences (which is a list-or-tuple of lists-or-tuples-or ndarrays with different lengths or shapes) is deprecated. If you meant to do this, you must specify 'dtype=object' when creating the ndarray.\n",
            "  return asarray(a).size\n",
            "/usr/local/lib/python3.7/dist-packages/matplotlib/cbook/__init__.py:1376: VisibleDeprecationWarning: Creating an ndarray from ragged nested sequences (which is a list-or-tuple of lists-or-tuples-or ndarrays with different lengths or shapes) is deprecated. If you meant to do this, you must specify 'dtype=object' when creating the ndarray.\n",
            "  X = np.atleast_1d(X.T if isinstance(X, np.ndarray) else np.asarray(X))\n"
          ]
        },
        {
          "output_type": "execute_result",
          "data": {
            "text/plain": [
              "<matplotlib.legend.Legend at 0x7fdf84f9ddd0>"
            ]
          },
          "metadata": {},
          "execution_count": 51
        },
        {
          "output_type": "display_data",
          "data": {
            "text/plain": [
              "<Figure size 432x288 with 1 Axes>"
            ],
            "image/png": "[encoded data removed]"
          },
          "metadata": {
            "needs_background": "light"
          }
        }
      ]
    },
    {
      "cell_type": "code",
      "source": [
        "salary_no_existed = df[df.Exited== 0].EstimatedSalary\n",
        "salary_yes_existed = df[df.Exited== 1].EstimatedSalary\n",
        "plt.xlabel('Estimad_salary')\n",
        "plt.ylabel('no of customer')\n",
        "plt.title('Churn prediction')\n",
        "plt.hist([salary_no_existed,salary_yes_existed], color = ['green', 'blue'], label =(['Existed = no','Existed = yes']))\n",
        "plt.legend()"
      ],
      "metadata": {
        "colab": {
          "base_uri": "https://localhost:8080/",
          "height": 402
        },
        "id": "bAVM2lTORqHI",
        "outputId": "6d7111d2-1388-4a9e-a5c1-e6479c70aa94"
      },
      "execution_count": 52,
      "outputs": [
        {
          "output_type": "stream",
          "name": "stderr",
          "text": [
            "/usr/local/lib/python3.7/dist-packages/numpy/core/fromnumeric.py:3208: VisibleDeprecationWarning: Creating an ndarray from ragged nested sequences (which is a list-or-tuple of lists-or-tuples-or ndarrays with different lengths or shapes) is deprecated. If you meant to do this, you must specify 'dtype=object' when creating the ndarray.\n",
            "  return asarray(a).size\n",
            "/usr/local/lib/python3.7/dist-packages/matplotlib/cbook/__init__.py:1376: VisibleDeprecationWarning: Creating an ndarray from ragged nested sequences (which is a list-or-tuple of lists-or-tuples-or ndarrays with different lengths or shapes) is deprecated. If you meant to do this, you must specify 'dtype=object' when creating the ndarray.\n",
            "  X = np.atleast_1d(X.T if isinstance(X, np.ndarray) else np.asarray(X))\n"
          ]
        },
        {
          "output_type": "execute_result",
          "data": {
            "text/plain": [
              "<matplotlib.legend.Legend at 0x7fdf84efb710>"
            ]
          },
          "metadata": {},
          "execution_count": 52
        },
        {
          "output_type": "display_data",
          "data": {
            "text/plain": [
              "<Figure size 432x288 with 1 Axes>"
            ],
            "image/png": "[encoded data removed]"
          },
          "metadata": {
            "needs_background": "light"
          }
        }
      ]
    },
    {
      "cell_type": "code",
      "source": [
        "df.Gender = df.Gender.map({'Female':1, 'Male':0}) \n",
        "df = pd.get_dummies(data=df, columns=['Geography'])\n",
        "scaler = MinMaxScaler()\n",
        "df[['CreditScore', 'Age', 'Tenure', 'Balance', 'NumOfProducts', 'EstimatedSalary']] = scaler.fit_transform(df[['CreditScore', 'Age', 'Tenure', 'Balance', 'NumOfProducts', 'EstimatedSalary']])\n",
        "df.head()"
      ],
      "metadata": {
        "colab": {
          "base_uri": "https://localhost:8080/",
          "height": 270
        },
        "id": "s1bXYejzRr-M",
        "outputId": "63f3a006-28be-4513-e9fc-5c9a801e0671"
      },
      "execution_count": 53,
      "outputs": [
        {
          "output_type": "execute_result",
          "data": {
            "text/plain": [
              "   CreditScore  Gender       Age  Tenure   Balance  NumOfProducts  HasCrCard  \\\n",
              "0        0.538       1  0.324324     0.2  0.000000       0.000000          1   \n",
              "1        0.516       1  0.310811     0.1  0.334031       0.000000          0   \n",
              "2        0.304       1  0.324324     0.8  0.636357       0.666667          1   \n",
              "3        0.698       1  0.283784     0.1  0.000000       0.333333          0   \n",
              "4        1.000       1  0.337838     0.2  0.500246       0.000000          1   \n",
              "\n",
              "   IsActiveMember  EstimatedSalary  Exited  Geography_France  \\\n",
              "0               1         0.506735       1                 1   \n",
              "1               1         0.562709       0                 0   \n",
              "2               0         0.569654       1                 1   \n",
              "3               0         0.469120       0                 1   \n",
              "4               1         0.395400       0                 0   \n",
              "\n",
              "   Geography_Germany  Geography_Spain  \n",
              "0                  0                0  \n",
              "1                  0                1  \n",
              "2                  0                0  \n",
              "3                  0                0  \n",
              "4                  0                1  "
            ],
            "text/html": [
              "\n",
              "  <div id=\"df-8f5f03d4-5110-4cb4-8ea6-34dd3b7dc1ca\">\n",
              "    <div class=\"colab-df-container\">\n",
              "      <div>\n",
              "<style scoped>\n",
              "    .dataframe tbody tr th:only-of-type {\n",
              "        vertical-align: middle;\n",
              "    }\n",
              "\n",
              "    .dataframe tbody tr th {\n",
              "        vertical-align: top;\n",
              "    }\n",
              "\n",
              "    .dataframe thead th {\n",
              "        text-align: right;\n",
              "    }\n",
              "</style>\n",
              "<table border=\"1\" class=\"dataframe\">\n",
              "  <thead>\n",
              "    <tr style=\"text-align: right;\">\n",
              "      <th></th>\n",
              "      <th>CreditScore</th>\n",
              "      <th>Gender</th>\n",
              "      <th>Age</th>\n",
              "      <th>Tenure</th>\n",
              "      <th>Balance</th>\n",
              "      <th>NumOfProducts</th>\n",
              "      <th>HasCrCard</th>\n",
              "      <th>IsActiveMember</th>\n",
              "      <th>EstimatedSalary</th>\n",
              "      <th>Exited</th>\n",
              "      <th>Geography_France</th>\n",
              "      <th>Geography_Germany</th>\n",
              "      <th>Geography_Spain</th>\n",
              "    </tr>\n",
              "  </thead>\n",
              "  <tbody>\n",
              "    <tr>\n",
              "      <th>0</th>\n",
              "      <td>0.538</td>\n",
              "      <td>1</td>\n",
              "      <td>0.324324</td>\n",
              "      <td>0.2</td>\n",
              "      <td>0.000000</td>\n",
              "      <td>0.000000</td>\n",
              "      <td>1</td>\n",
              "      <td>1</td>\n",
              "      <td>0.506735</td>\n",
              "      <td>1</td>\n",
              "      <td>1</td>\n",
              "      <td>0</td>\n",
              "      <td>0</td>\n",
              "    </tr>\n",
              "    <tr>\n",
              "      <th>1</th>\n",
              "      <td>0.516</td>\n",
              "      <td>1</td>\n",
              "      <td>0.310811</td>\n",
              "      <td>0.1</td>\n",
              "      <td>0.334031</td>\n",
              "      <td>0.000000</td>\n",
              "      <td>0</td>\n",
              "      <td>1</td>\n",
              "      <td>0.562709</td>\n",
              "      <td>0</td>\n",
              "      <td>0</td>\n",
              "      <td>0</td>\n",
              "      <td>1</td>\n",
              "    </tr>\n",
              "    <tr>\n",
              "      <th>2</th>\n",
              "      <td>0.304</td>\n",
              "      <td>1</td>\n",
              "      <td>0.324324</td>\n",
              "      <td>0.8</td>\n",
              "      <td>0.636357</td>\n",
              "      <td>0.666667</td>\n",
              "      <td>1</td>\n",
              "      <td>0</td>\n",
              "      <td>0.569654</td>\n",
              "      <td>1</td>\n",
              "      <td>1</td>\n",
              "      <td>0</td>\n",
              "      <td>0</td>\n",
              "    </tr>\n",
              "    <tr>\n",
              "      <th>3</th>\n",
              "      <td>0.698</td>\n",
              "      <td>1</td>\n",
              "      <td>0.283784</td>\n",
              "      <td>0.1</td>\n",
              "      <td>0.000000</td>\n",
              "      <td>0.333333</td>\n",
              "      <td>0</td>\n",
              "      <td>0</td>\n",
              "      <td>0.469120</td>\n",
              "      <td>0</td>\n",
              "      <td>1</td>\n",
              "      <td>0</td>\n",
              "      <td>0</td>\n",
              "    </tr>\n",
              "    <tr>\n",
              "      <th>4</th>\n",
              "      <td>1.000</td>\n",
              "      <td>1</td>\n",
              "      <td>0.337838</td>\n",
              "      <td>0.2</td>\n",
              "      <td>0.500246</td>\n",
              "      <td>0.000000</td>\n",
              "      <td>1</td>\n",
              "      <td>1</td>\n",
              "      <td>0.395400</td>\n",
              "      <td>0</td>\n",
              "      <td>0</td>\n",
              "      <td>0</td>\n",
              "      <td>1</td>\n",
              "    </tr>\n",
              "  </tbody>\n",
              "</table>\n",
              "</div>\n",
              "      <button class=\"colab-df-convert\" onclick=\"convertToInteractive('df-8f5f03d4-5110-4cb4-8ea6-34dd3b7dc1ca')\"\n",
              "              title=\"Convert this dataframe to an interactive table.\"\n",
              "              style=\"display:none;\">\n",
              "        \n",
              "  <svg xmlns=\"http://www.w3.org/2000/svg\" height=\"24px\"viewBox=\"0 0 24 24\"\n",
              "       width=\"24px\">\n",
              "    <path d=\"M0 0h24v24H0V0z\" fill=\"none\"/>\n",
              "    <path d=\"M18.56 5.44l.94 2.06.94-2.06 2.06-.94-2.06-.94-.94-2.06-.94 2.06-2.06.94zm-11 1L8.5 8.5l.94-2.06 2.06-.94-2.06-.94L8.5 2.5l-.94 2.06-2.06.94zm10 10l.94 2.06.94-2.06 2.06-.94-2.06-.94-.94-2.06-.94 2.06-2.06.94z\"/><path d=\"M17.41 7.96l-1.37-1.37c-.4-.4-.92-.59-1.43-.59-.52 0-1.04.2-1.43.59L10.3 9.45l-7.72 7.72c-.78.78-.78 2.05 0 2.83L4 21.41c.39.39.9.59 1.41.59.51 0 1.02-.2 1.41-.59l7.78-7.78 2.81-2.81c.8-.78.8-2.07 0-2.86zM5.41 20L4 18.59l7.72-7.72 1.47 1.35L5.41 20z\"/>\n",
              "  </svg>\n",
              "      </button>\n",
              "      \n",
              "  <style>\n",
              "    .colab-df-container {\n",
              "      display:flex;\n",
              "      flex-wrap:wrap;\n",
              "      gap: 12px;\n",
              "    }\n",
              "\n",
              "    .colab-df-convert {\n",
              "      background-color: #E8F0FE;\n",
              "      border: none;\n",
              "      border-radius: 50%;\n",
              "      cursor: pointer;\n",
              "      display: none;\n",
              "      fill: #1967D2;\n",
              "      height: 32px;\n",
              "      padding: 0 0 0 0;\n",
              "      width: 32px;\n",
              "    }\n",
              "\n",
              "    .colab-df-convert:hover {\n",
              "      background-color: #E2EBFA;\n",
              "      box-shadow: 0px 1px 2px rgba(60, 64, 67, 0.3), 0px 1px 3px 1px rgba(60, 64, 67, 0.15);\n",
              "      fill: #174EA6;\n",
              "    }\n",
              "\n",
              "    [theme=dark] .colab-df-convert {\n",
              "      background-color: #3B4455;\n",
              "      fill: #D2E3FC;\n",
              "    }\n",
              "\n",
              "    [theme=dark] .colab-df-convert:hover {\n",
              "      background-color: #434B5C;\n",
              "      box-shadow: 0px 1px 3px 1px rgba(0, 0, 0, 0.15);\n",
              "      filter: drop-shadow(0px 1px 2px rgba(0, 0, 0, 0.3));\n",
              "      fill: #FFFFFF;\n",
              "    }\n",
              "  </style>\n",
              "\n",
              "      <script>\n",
              "        const buttonEl =\n",
              "          document.querySelector('#df-8f5f03d4-5110-4cb4-8ea6-34dd3b7dc1ca button.colab-df-convert');\n",
              "        buttonEl.style.display =\n",
              "          google.colab.kernel.accessAllowed ? 'block' : 'none';\n",
              "\n",
              "        async function convertToInteractive(key) {\n",
              "          const element = document.querySelector('#df-8f5f03d4-5110-4cb4-8ea6-34dd3b7dc1ca');\n",
              "          const dataTable =\n",
              "            await google.colab.kernel.invokeFunction('convertToInteractive',\n",
              "                                                     [key], {});\n",
              "          if (!dataTable) return;\n",
              "\n",
              "          const docLinkHtml = 'Like what you see? Visit the ' +\n",
              "            '<a target=\"_blank\" href=https://colab.research.google.com/notebooks/data_table.ipynb>data table notebook</a>'\n",
              "            + ' to learn more about interactive tables.';\n",
              "          element.innerHTML = '';\n",
              "          dataTable['output_type'] = 'display_data';\n",
              "          await google.colab.output.renderOutput(dataTable, element);\n",
              "          const docLink = document.createElement('div');\n",
              "          docLink.innerHTML = docLinkHtml;\n",
              "          element.appendChild(docLink);\n",
              "        }\n",
              "      </script>\n",
              "    </div>\n",
              "  </div>\n",
              "  "
            ]
          },
          "metadata": {},
          "execution_count": 53
        }
      ]
    },
    {
      "cell_type": "code",
      "source": [
        "df.Exited.value_counts()"
      ],
      "metadata": {
        "colab": {
          "base_uri": "https://localhost:8080/"
        },
        "id": "lHeU2Cl2Rt6r",
        "outputId": "5e95a38e-6a90-42dc-841f-0b44ec00d4ef"
      },
      "execution_count": 54,
      "outputs": [
        {
          "output_type": "execute_result",
          "data": {
            "text/plain": [
              "0    7963\n",
              "1    2037\n",
              "Name: Exited, dtype: int64"
            ]
          },
          "metadata": {},
          "execution_count": 54
        }
      ]
    },
    {
      "cell_type": "markdown",
      "source": [
        "Training Model"
      ],
      "metadata": {
        "id": "HsL0NwwgRwK1"
      }
    },
    {
      "cell_type": "code",
      "source": [
        "x = df.drop('Exited', axis = 1) \n",
        "y = df.Exited\n",
        "x_train, x_test, y_train, y_test = train_test_split(x, y)\n",
        "x_train.shape"
      ],
      "metadata": {
        "colab": {
          "base_uri": "https://localhost:8080/"
        },
        "id": "jcteoE-wRx75",
        "outputId": "ce23dd77-2332-4778-c7e3-a369ae3d931c"
      },
      "execution_count": 55,
      "outputs": [
        {
          "output_type": "execute_result",
          "data": {
            "text/plain": [
              "(7500, 12)"
            ]
          },
          "metadata": {},
          "execution_count": 55
        }
      ]
    },
    {
      "cell_type": "code",
      "source": [
        "x_test.shape"
      ],
      "metadata": {
        "colab": {
          "base_uri": "https://localhost:8080/"
        },
        "id": "87roMtihR1Pw",
        "outputId": "49a7022c-3491-4d97-d3e3-b010c06a4244"
      },
      "execution_count": 56,
      "outputs": [
        {
          "output_type": "execute_result",
          "data": {
            "text/plain": [
              "(2500, 12)"
            ]
          },
          "metadata": {},
          "execution_count": 56
        }
      ]
    },
    {
      "cell_type": "code",
      "source": [
        "import tensorflow as tf\n",
        "from tensorflow import keras\n",
        "\n",
        "model = keras.Sequential([\n",
        "        keras.layers.Dense(12, input_shape = (12,), activation = 'relu'),\n",
        "        keras.layers.Dense(12, activation = 'relu'),\n",
        "        keras.layers.Dense(1, activation = 'sigmoid')]) \n",
        "\n",
        "\n",
        "model.compile(optimizer = 'adam', loss = 'binary_crossentropy', metrics = 'accuracy')\n",
        "model.fit(x_train, y_train, epochs = 100)"
      ],
      "metadata": {
        "colab": {
          "base_uri": "https://localhost:8080/"
        },
        "id": "yQN_wafrR2MF",
        "outputId": "a7a540af-941c-4b85-e40b-46595efe42a3"
      },
      "execution_count": 57,
      "outputs": [
        {
          "output_type": "stream",
          "name": "stdout",
          "text": [
            "Epoch 1/100\n",
            "235/235 [==============================] - 1s 2ms/step - loss: 0.5692 - accuracy: 0.7155\n",
            "Epoch 2/100\n",
            "235/235 [==============================] - 0s 1ms/step - loss: 0.4722 - accuracy: 0.7980\n",
            "Epoch 3/100\n",
            "235/235 [==============================] - 0s 1ms/step - loss: 0.4610 - accuracy: 0.7980\n",
            "Epoch 4/100\n",
            "235/235 [==============================] - 0s 2ms/step - loss: 0.4523 - accuracy: 0.7980\n",
            "Epoch 5/100\n",
            "235/235 [==============================] - 0s 1ms/step - loss: 0.4429 - accuracy: 0.8015\n",
            "Epoch 6/100\n",
            "235/235 [==============================] - 0s 1ms/step - loss: 0.4322 - accuracy: 0.8128\n",
            "Epoch 7/100\n",
            "235/235 [==============================] - 0s 2ms/step - loss: 0.4257 - accuracy: 0.8189\n",
            "Epoch 8/100\n",
            "235/235 [==============================] - 0s 1ms/step - loss: 0.4212 - accuracy: 0.8187\n",
            "Epoch 9/100\n",
            "235/235 [==============================] - 0s 1ms/step - loss: 0.4190 - accuracy: 0.8221\n",
            "Epoch 10/100\n",
            "235/235 [==============================] - 0s 1ms/step - loss: 0.4160 - accuracy: 0.8229\n",
            "Epoch 11/100\n",
            "235/235 [==============================] - 0s 1ms/step - loss: 0.4149 - accuracy: 0.8236\n",
            "Epoch 12/100\n",
            "235/235 [==============================] - 0s 1ms/step - loss: 0.4123 - accuracy: 0.8251\n",
            "Epoch 13/100\n",
            "235/235 [==============================] - 0s 2ms/step - loss: 0.4106 - accuracy: 0.8245\n",
            "Epoch 14/100\n",
            "235/235 [==============================] - 0s 1ms/step - loss: 0.4090 - accuracy: 0.8280\n",
            "Epoch 15/100\n",
            "235/235 [==============================] - 0s 1ms/step - loss: 0.4071 - accuracy: 0.8296\n",
            "Epoch 16/100\n",
            "235/235 [==============================] - 0s 2ms/step - loss: 0.4055 - accuracy: 0.8311\n",
            "Epoch 17/100\n",
            "235/235 [==============================] - 0s 1ms/step - loss: 0.4030 - accuracy: 0.8323\n",
            "Epoch 18/100\n",
            "235/235 [==============================] - 0s 1ms/step - loss: 0.4009 - accuracy: 0.8335\n",
            "Epoch 19/100\n",
            "235/235 [==============================] - 0s 1ms/step - loss: 0.3990 - accuracy: 0.8339\n",
            "Epoch 20/100\n",
            "235/235 [==============================] - 0s 1ms/step - loss: 0.3971 - accuracy: 0.8352\n",
            "Epoch 21/100\n",
            "235/235 [==============================] - 0s 1ms/step - loss: 0.3944 - accuracy: 0.8337\n",
            "Epoch 22/100\n",
            "235/235 [==============================] - 0s 2ms/step - loss: 0.3928 - accuracy: 0.8367\n",
            "Epoch 23/100\n",
            "235/235 [==============================] - 0s 1ms/step - loss: 0.3900 - accuracy: 0.8364\n",
            "Epoch 24/100\n",
            "235/235 [==============================] - 0s 1ms/step - loss: 0.3876 - accuracy: 0.8376\n",
            "Epoch 25/100\n",
            "235/235 [==============================] - 0s 1ms/step - loss: 0.3853 - accuracy: 0.8369\n",
            "Epoch 26/100\n",
            "235/235 [==============================] - 0s 1ms/step - loss: 0.3821 - accuracy: 0.8355\n",
            "Epoch 27/100\n",
            "235/235 [==============================] - 0s 2ms/step - loss: 0.3788 - accuracy: 0.8380\n",
            "Epoch 28/100\n",
            "235/235 [==============================] - 0s 1ms/step - loss: 0.3767 - accuracy: 0.8371\n",
            "Epoch 29/100\n",
            "235/235 [==============================] - 0s 1ms/step - loss: 0.3739 - accuracy: 0.8376\n",
            "Epoch 30/100\n",
            "235/235 [==============================] - 0s 2ms/step - loss: 0.3711 - accuracy: 0.8367\n",
            "Epoch 31/100\n",
            "235/235 [==============================] - 0s 1ms/step - loss: 0.3687 - accuracy: 0.8401\n",
            "Epoch 32/100\n",
            "235/235 [==============================] - 0s 1ms/step - loss: 0.3659 - accuracy: 0.8412\n",
            "Epoch 33/100\n",
            "235/235 [==============================] - 0s 1ms/step - loss: 0.3641 - accuracy: 0.8437\n",
            "Epoch 34/100\n",
            "235/235 [==============================] - 0s 1ms/step - loss: 0.3624 - accuracy: 0.8476\n",
            "Epoch 35/100\n",
            "235/235 [==============================] - 0s 1ms/step - loss: 0.3606 - accuracy: 0.8487\n",
            "Epoch 36/100\n",
            "235/235 [==============================] - 0s 1ms/step - loss: 0.3597 - accuracy: 0.8491\n",
            "Epoch 37/100\n",
            "235/235 [==============================] - 0s 2ms/step - loss: 0.3584 - accuracy: 0.8509\n",
            "Epoch 38/100\n",
            "235/235 [==============================] - 1s 2ms/step - loss: 0.3578 - accuracy: 0.8528\n",
            "Epoch 39/100\n",
            "235/235 [==============================] - 0s 2ms/step - loss: 0.3567 - accuracy: 0.8528\n",
            "Epoch 40/100\n",
            "235/235 [==============================] - 1s 2ms/step - loss: 0.3552 - accuracy: 0.8528\n",
            "Epoch 41/100\n",
            "235/235 [==============================] - 1s 3ms/step - loss: 0.3532 - accuracy: 0.8560\n",
            "Epoch 42/100\n",
            "235/235 [==============================] - 1s 3ms/step - loss: 0.3527 - accuracy: 0.8557\n",
            "Epoch 43/100\n",
            "235/235 [==============================] - 1s 4ms/step - loss: 0.3518 - accuracy: 0.8589\n",
            "Epoch 44/100\n",
            "235/235 [==============================] - 1s 4ms/step - loss: 0.3507 - accuracy: 0.8565\n",
            "Epoch 45/100\n",
            "235/235 [==============================] - 1s 3ms/step - loss: 0.3503 - accuracy: 0.8552\n",
            "Epoch 46/100\n",
            "235/235 [==============================] - 1s 4ms/step - loss: 0.3522 - accuracy: 0.8567\n",
            "Epoch 47/100\n",
            "235/235 [==============================] - 1s 3ms/step - loss: 0.3487 - accuracy: 0.8588\n",
            "Epoch 48/100\n",
            "235/235 [==============================] - 0s 2ms/step - loss: 0.3476 - accuracy: 0.8580\n",
            "Epoch 49/100\n",
            "235/235 [==============================] - 1s 2ms/step - loss: 0.3462 - accuracy: 0.8609\n",
            "Epoch 50/100\n",
            "235/235 [==============================] - 0s 2ms/step - loss: 0.3462 - accuracy: 0.8588\n",
            "Epoch 51/100\n",
            "235/235 [==============================] - 0s 2ms/step - loss: 0.3454 - accuracy: 0.8613\n",
            "Epoch 52/100\n",
            "235/235 [==============================] - 0s 2ms/step - loss: 0.3440 - accuracy: 0.8601\n",
            "Epoch 53/100\n",
            "235/235 [==============================] - 0s 2ms/step - loss: 0.3444 - accuracy: 0.8599\n",
            "Epoch 54/100\n",
            "235/235 [==============================] - 1s 2ms/step - loss: 0.3432 - accuracy: 0.8628\n",
            "Epoch 55/100\n",
            "235/235 [==============================] - 1s 2ms/step - loss: 0.3419 - accuracy: 0.8616\n",
            "Epoch 56/100\n",
            "235/235 [==============================] - 1s 2ms/step - loss: 0.3411 - accuracy: 0.8609\n",
            "Epoch 57/100\n",
            "235/235 [==============================] - 1s 2ms/step - loss: 0.3401 - accuracy: 0.8636\n",
            "Epoch 58/100\n",
            "235/235 [==============================] - 0s 2ms/step - loss: 0.3382 - accuracy: 0.8649\n",
            "Epoch 59/100\n",
            "235/235 [==============================] - 0s 2ms/step - loss: 0.3365 - accuracy: 0.8620\n",
            "Epoch 60/100\n",
            "235/235 [==============================] - 0s 1ms/step - loss: 0.3369 - accuracy: 0.8624\n",
            "Epoch 61/100\n",
            "235/235 [==============================] - 0s 1ms/step - loss: 0.3348 - accuracy: 0.8659\n",
            "Epoch 62/100\n",
            "235/235 [==============================] - 0s 2ms/step - loss: 0.3347 - accuracy: 0.8661\n",
            "Epoch 63/100\n",
            "235/235 [==============================] - 0s 2ms/step - loss: 0.3340 - accuracy: 0.8648\n",
            "Epoch 64/100\n",
            "235/235 [==============================] - 0s 1ms/step - loss: 0.3323 - accuracy: 0.8639\n",
            "Epoch 65/100\n",
            "235/235 [==============================] - 0s 2ms/step - loss: 0.3328 - accuracy: 0.8649\n",
            "Epoch 66/100\n",
            "235/235 [==============================] - 1s 2ms/step - loss: 0.3318 - accuracy: 0.8641\n",
            "Epoch 67/100\n",
            "235/235 [==============================] - 0s 2ms/step - loss: 0.3318 - accuracy: 0.8644\n",
            "Epoch 68/100\n",
            "235/235 [==============================] - 0s 2ms/step - loss: 0.3322 - accuracy: 0.8653\n",
            "Epoch 69/100\n",
            "235/235 [==============================] - 1s 2ms/step - loss: 0.3316 - accuracy: 0.8649\n",
            "Epoch 70/100\n",
            "235/235 [==============================] - 1s 4ms/step - loss: 0.3307 - accuracy: 0.8652\n",
            "Epoch 71/100\n",
            "235/235 [==============================] - 1s 2ms/step - loss: 0.3317 - accuracy: 0.8640\n",
            "Epoch 72/100\n",
            "235/235 [==============================] - 0s 2ms/step - loss: 0.3306 - accuracy: 0.8649\n",
            "Epoch 73/100\n",
            "235/235 [==============================] - 1s 2ms/step - loss: 0.3303 - accuracy: 0.8639\n",
            "Epoch 74/100\n",
            "235/235 [==============================] - 1s 2ms/step - loss: 0.3298 - accuracy: 0.8644\n",
            "Epoch 75/100\n",
            "235/235 [==============================] - 1s 2ms/step - loss: 0.3293 - accuracy: 0.8673\n",
            "Epoch 76/100\n",
            "235/235 [==============================] - 0s 2ms/step - loss: 0.3304 - accuracy: 0.8633\n",
            "Epoch 77/100\n",
            "235/235 [==============================] - 1s 2ms/step - loss: 0.3302 - accuracy: 0.8639\n",
            "Epoch 78/100\n",
            "235/235 [==============================] - 1s 3ms/step - loss: 0.3296 - accuracy: 0.8627\n",
            "Epoch 79/100\n",
            "235/235 [==============================] - 0s 2ms/step - loss: 0.3296 - accuracy: 0.8636\n",
            "Epoch 80/100\n",
            "235/235 [==============================] - 1s 2ms/step - loss: 0.3295 - accuracy: 0.8639\n",
            "Epoch 81/100\n",
            "235/235 [==============================] - 1s 4ms/step - loss: 0.3287 - accuracy: 0.8653\n",
            "Epoch 82/100\n",
            "235/235 [==============================] - 1s 4ms/step - loss: 0.3288 - accuracy: 0.8655\n",
            "Epoch 83/100\n",
            "235/235 [==============================] - 1s 3ms/step - loss: 0.3288 - accuracy: 0.8637\n",
            "Epoch 84/100\n",
            "235/235 [==============================] - 1s 3ms/step - loss: 0.3283 - accuracy: 0.8660\n",
            "Epoch 85/100\n",
            "235/235 [==============================] - 1s 3ms/step - loss: 0.3287 - accuracy: 0.8656\n",
            "Epoch 86/100\n",
            "235/235 [==============================] - 1s 3ms/step - loss: 0.3287 - accuracy: 0.8652\n",
            "Epoch 87/100\n",
            "235/235 [==============================] - 1s 3ms/step - loss: 0.3284 - accuracy: 0.8644\n",
            "Epoch 88/100\n",
            "235/235 [==============================] - 1s 3ms/step - loss: 0.3283 - accuracy: 0.8640\n",
            "Epoch 89/100\n",
            "235/235 [==============================] - 1s 4ms/step - loss: 0.3276 - accuracy: 0.8672\n",
            "Epoch 90/100\n",
            "235/235 [==============================] - 1s 3ms/step - loss: 0.3283 - accuracy: 0.8663\n",
            "Epoch 91/100\n",
            "235/235 [==============================] - 1s 4ms/step - loss: 0.3273 - accuracy: 0.8639\n",
            "Epoch 92/100\n",
            "235/235 [==============================] - 1s 5ms/step - loss: 0.3279 - accuracy: 0.8639\n",
            "Epoch 93/100\n",
            "235/235 [==============================] - 1s 5ms/step - loss: 0.3284 - accuracy: 0.8668\n",
            "Epoch 94/100\n",
            "235/235 [==============================] - 1s 4ms/step - loss: 0.3276 - accuracy: 0.8648\n",
            "Epoch 95/100\n",
            "235/235 [==============================] - 0s 2ms/step - loss: 0.3268 - accuracy: 0.8660\n",
            "Epoch 96/100\n",
            "235/235 [==============================] - 1s 3ms/step - loss: 0.3266 - accuracy: 0.8669\n",
            "Epoch 97/100\n",
            "235/235 [==============================] - 1s 2ms/step - loss: 0.3260 - accuracy: 0.8659\n",
            "Epoch 98/100\n",
            "235/235 [==============================] - 1s 2ms/step - loss: 0.3266 - accuracy: 0.8651\n",
            "Epoch 99/100\n",
            "235/235 [==============================] - 1s 3ms/step - loss: 0.3268 - accuracy: 0.8661\n",
            "Epoch 100/100\n",
            "235/235 [==============================] - 1s 2ms/step - loss: 0.3267 - accuracy: 0.8643\n"
          ]
        },
        {
          "output_type": "execute_result",
          "data": {
            "text/plain": [
              "<keras.callbacks.History at 0x7fdf81438990>"
            ]
          },
          "metadata": {},
          "execution_count": 57
        }
      ]
    },
    {
      "cell_type": "code",
      "source": [
        "model.evaluate(x_test, y_test)"
      ],
      "metadata": {
        "colab": {
          "base_uri": "https://localhost:8080/"
        },
        "id": "uG56VS6tR68M",
        "outputId": "965f3ff7-9e06-4a39-809e-9a467af1ac0c"
      },
      "execution_count": 58,
      "outputs": [
        {
          "output_type": "stream",
          "name": "stdout",
          "text": [
            "79/79 [==============================] - 1s 2ms/step - loss: 0.3592 - accuracy: 0.8556\n"
          ]
        },
        {
          "output_type": "execute_result",
          "data": {
            "text/plain": [
              "[0.35916388034820557, 0.8555999994277954]"
            ]
          },
          "metadata": {},
          "execution_count": 58
        }
      ]
    },
    {
      "cell_type": "code",
      "source": [
        "yp = model.predict(x_test)\n",
        "yp[:5]"
      ],
      "metadata": {
        "colab": {
          "base_uri": "https://localhost:8080/"
        },
        "id": "5YvxnC8QR79p",
        "outputId": "47ea140e-23b1-4791-def6-f1d4f39b9824"
      },
      "execution_count": 59,
      "outputs": [
        {
          "output_type": "execute_result",
          "data": {
            "text/plain": [
              "array([[0.06755003],\n",
              "       [0.229855  ],\n",
              "       [0.17648673],\n",
              "       [0.00554463],\n",
              "       [0.06677449]], dtype=float32)"
            ]
          },
          "metadata": {},
          "execution_count": 59
        }
      ]
    },
    {
      "cell_type": "code",
      "source": [
        "y_pred = []\n",
        "for element in yp:\n",
        "    if element > 0.5:\n",
        "        y_pred.append(1)\n",
        "    else:\n",
        "        y_pred.append(0)\n",
        "from sklearn.metrics import confusion_matrix , classification_report\n",
        "\n",
        "print(classification_report(y_test,y_pred))"
      ],
      "metadata": {
        "colab": {
          "base_uri": "https://localhost:8080/"
        },
        "id": "CTKwxIG8R9bw",
        "outputId": "b2bd746f-386f-430d-b92b-b923a612a5b5"
      },
      "execution_count": 60,
      "outputs": [
        {
          "output_type": "stream",
          "name": "stdout",
          "text": [
            "              precision    recall  f1-score   support\n",
            "\n",
            "           0       0.87      0.97      0.91      1978\n",
            "           1       0.77      0.44      0.56       522\n",
            "\n",
            "    accuracy                           0.86      2500\n",
            "   macro avg       0.82      0.70      0.74      2500\n",
            "weighted avg       0.85      0.86      0.84      2500\n",
            "\n"
          ]
        }
      ]
    },
    {
      "cell_type": "code",
      "source": [
        "import seaborn as sn\n",
        "from matplotlib  import pyplot as plt\n",
        "\n",
        "cm = tf.math.confusion_matrix(labels=y_test,predictions=y_pred)\n",
        "\n",
        "plt.figure(figsize = (10,7))\n",
        "sn.heatmap(cm, annot=True, fmt='d')\n",
        "plt.xlabel('Predicted')\n",
        "plt.ylabel('Truth')"
      ],
      "metadata": {
        "colab": {
          "base_uri": "https://localhost:8080/",
          "height": 459
        },
        "id": "lhhPZ-AFR_Y1",
        "outputId": "ab24d55d-ff6c-460e-d523-2e151bd5060c"
      },
      "execution_count": 61,
      "outputs": [
        {
          "output_type": "execute_result",
          "data": {
            "text/plain": [
              "Text(69.0, 0.5, 'Truth')"
            ]
          },
          "metadata": {},
          "execution_count": 61
        },
        {
          "output_type": "display_data",
          "data": {
            "text/plain": [
              "<Figure size 720x504 with 2 Axes>"
            ],
            "image/png": "[encoded data removed]"
          },
          "metadata": {
            "needs_background": "light"
          }
        }
      ]
    },
    {
      "cell_type": "markdown",
      "source": [
        "Accuracy"
      ],
      "metadata": {
        "id": "KHBC6v9jSEua"
      }
    },
    {
      "cell_type": "code",
      "source": [
        "round((1922+229)/(1922+229+275+74),2)"
      ],
      "metadata": {
        "colab": {
          "base_uri": "https://localhost:8080/"
        },
        "id": "7070yb91SCpO",
        "outputId": "7f3060a7-ffd2-4cbd-e876-afca277223f8"
      },
      "execution_count": 62,
      "outputs": [
        {
          "output_type": "execute_result",
          "data": {
            "text/plain": [
              "0.86"
            ]
          },
          "metadata": {},
          "execution_count": 62
        }
      ]
    },
    {
      "cell_type": "markdown",
      "source": [
        "Precision for class 0"
      ],
      "metadata": {
        "id": "2BgG8jFGSHBJ"
      }
    },
    {
      "cell_type": "code",
      "source": [
        "round(1922/(1922+275),2)"
      ],
      "metadata": {
        "colab": {
          "base_uri": "https://localhost:8080/"
        },
        "id": "E0hpVbVkSDrh",
        "outputId": "cc07d0a4-a261-4557-c2ce-96935ef230d0"
      },
      "execution_count": 63,
      "outputs": [
        {
          "output_type": "execute_result",
          "data": {
            "text/plain": [
              "0.87"
            ]
          },
          "metadata": {},
          "execution_count": 63
        }
      ]
    },
    {
      "cell_type": "markdown",
      "source": [
        "Precision for 1 class"
      ],
      "metadata": {
        "id": "0bX49mjCSLvc"
      }
    },
    {
      "cell_type": "code",
      "source": [
        "round(229/(229+74),2)"
      ],
      "metadata": {
        "colab": {
          "base_uri": "https://localhost:8080/"
        },
        "id": "0Sat54FYSNxD",
        "outputId": "b5bc0d17-269d-4be4-ee6f-6ac81f50b314"
      },
      "execution_count": 64,
      "outputs": [
        {
          "output_type": "execute_result",
          "data": {
            "text/plain": [
              "0.76"
            ]
          },
          "metadata": {},
          "execution_count": 64
        }
      ]
    },
    {
      "cell_type": "markdown",
      "source": [
        "Recall for 0 class"
      ],
      "metadata": {
        "id": "9MCCaWP_SP-r"
      }
    },
    {
      "cell_type": "code",
      "source": [
        "round(1922/(1922+74),2)"
      ],
      "metadata": {
        "colab": {
          "base_uri": "https://localhost:8080/"
        },
        "id": "pgypvsWcSSPB",
        "outputId": "d81cf4f2-1b70-4780-e465-aae7c157752c"
      },
      "execution_count": 65,
      "outputs": [
        {
          "output_type": "execute_result",
          "data": {
            "text/plain": [
              "0.96"
            ]
          },
          "metadata": {},
          "execution_count": 65
        }
      ]
    },
    {
      "cell_type": "code",
      "source": [
        "round(229/(229+275),2)"
      ],
      "metadata": {
        "colab": {
          "base_uri": "https://localhost:8080/"
        },
        "id": "PItCJ1JtST11",
        "outputId": "d8f12808-4f89-4790-b575-8eb6292f40a6"
      },
      "execution_count": 66,
      "outputs": [
        {
          "output_type": "execute_result",
          "data": {
            "text/plain": [
              "0.45"
            ]
          },
          "metadata": {},
          "execution_count": 66
        }
      ]
    }
  ]
}